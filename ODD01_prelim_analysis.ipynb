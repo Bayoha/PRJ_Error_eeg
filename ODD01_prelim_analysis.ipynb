{
 "cells": [
  {
   "cell_type": "code",
   "execution_count": 4,
   "metadata": {},
   "outputs": [],
   "source": [
    "from __future__ import division\n",
    "get_ipython().magic(u'matplotlib inline')\n",
    "import sys\n",
    "import os\n",
    "import numpy as np\n",
    "import pandas as pd\n",
    "import matplotlib.pyplot as plt\n",
    "import seaborn as sns\n",
    "import scipy.io as io\n",
    "import pickle\n",
    "\n",
    "import scipy.stats\n"
   ]
  },
  {
   "cell_type": "code",
   "execution_count": 5,
   "metadata": {},
   "outputs": [],
   "source": [
    "#SBJ = sys.argv[1]#raw_input('Enter SBJ ID to process:')#'EEG01'\n",
    "SBJ = 'EEG01'"
   ]
  },
  {
   "cell_type": "code",
   "execution_count": 6,
   "metadata": {},
   "outputs": [],
   "source": [
    "# In[3]:\n",
    "#prj_dir = '/Volumes/hoycw_clust/PRJ_Error_eeg/'\n",
    "prj_dir = '/Users/sheilasteiner/Desktop/Knight_Lab/PRJ_Error_eeg/'\n",
    "results_dir = prj_dir+'results/'\n",
    "fig_type = '.png'\n",
    "data_dir = prj_dir+'data/'\n",
    "sbj_dir  = data_dir+SBJ+'/'"
   ]
  },
  {
   "cell_type": "code",
   "execution_count": 7,
   "metadata": {},
   "outputs": [],
   "source": [
    "prdm_fname = os.path.join(sbj_dir,'03_events',SBJ+'_odd_prdm_vars.pkl')\n",
    "with open(prdm_fname, 'rb') as f:\n",
    "    prdm = pickle.load(f)"
   ]
  },
  {
   "cell_type": "code",
   "execution_count": 8,
   "metadata": {},
   "outputs": [],
   "source": [
    "behav_fname = os.path.join(sbj_dir,'03_events',SBJ+'_behav_oddball.csv')\n",
    "data = pd.read_csv(behav_fname)"
   ]
  },
  {
   "cell_type": "markdown",
   "metadata": {},
   "source": [
    "# Compute Accuracy"
   ]
  },
  {
   "cell_type": "code",
   "execution_count": 9,
   "metadata": {},
   "outputs": [],
   "source": [
    "accurate_tar_ratio = []\n",
    "accurate_std_ratio = []\n",
    "accurate_odd_ratio = []\n",
    "block_range = np.arange(np.max(data['Block']+1))\n",
    "condition_labels = ['tar', 'std', 'odd']\n",
    "accurate_trials = np.zeros((3,1))\n",
    "accurate_ratio = np.zeros((3,3))\n",
    "# Compute accuracy per condition\n",
    "for ix in block_range:\n",
    "    accurate_trials = np.zeros((3,1))\n",
    "    for cond_ix in range(len(condition_labels)):\n",
    "        block_data = data[data['Block'] == ix] #get all the trials in a certain block\n",
    "        cond_trials = block_data[block_data['Condition'] == condition_labels[cond_ix]].index # find all the target trials\n",
    "        for x in cond_trials:\n",
    "            if condition_labels[cond_ix] == 'tar':\n",
    "                if data.loc[x,'Hit'] == 1: #if got it right (Hit), add it to the list of correct ones\n",
    "                    accurate_trials[cond_ix] +=1\n",
    "            else:\n",
    "                if data.loc[x,'Miss'] == 0: # same thing but count 1- number of misses/total as measure of accuracy\n",
    "                    accurate_trials[cond_ix] +=1\n",
    "        accurate_ratio[cond_ix,ix] = (accurate_trials[cond_ix]/np.size(cond_trials))# add the ratio of right/all to those (1 value for each block)\n",
    "data_all = data\n",
    "# Exclude: Training/Examples, first trial of each block\n",
    "data = data[(data['Block']!=-1) & (data['ITI']>0)]\n",
    "\n"
   ]
  },
  {
   "cell_type": "markdown",
   "metadata": {},
   "source": [
    "# Plot Accuracy"
   ]
  },
  {
   "cell_type": "code",
   "execution_count": 26,
   "metadata": {},
   "outputs": [
    {
     "data": {
      "image/png": "[encoded data removed]",
      "text/plain": [
       "<Figure size 432x288 with 3 Axes>"
      ]
     },
     "metadata": {
      "needs_background": "light"
     },
     "output_type": "display_data"
    }
   ],
   "source": [
    "# plot for each block the number correct, separate by condition\n",
    "f, axes = plt.subplots(1,3)\n",
    "axes[0].plot(block_range, accurate_ratio[0,:], 'o')\n",
    "plt.subplots_adjust(top=0.8,wspace=0.8)\n",
    "axes[1].plot(block_range, accurate_ratio[1,:], 'o')\n",
    "plt.subplots_adjust(top=0.8,wspace=0.8)\n",
    "axes[2].plot(block_range, accurate_ratio[2,:], 'o')\n",
    "plt.subplots_adjust(top=0.8,wspace=0.8)"
   ]
  },
  {
   "cell_type": "code",
   "execution_count": 16,
   "metadata": {},
   "outputs": [
    {
     "data": {
      "text/plain": [
       "<Figure size 432x288 with 0 Axes>"
      ]
     },
     "metadata": {},
     "output_type": "display_data"
    }
   ],
   "source": [
    "sns.lineplot(block_range, accurate_ratio[1,:], ax=axes[1], markers = 'True', marker = \"o\")\n",
    "plt.subplots_adjust(top=0.8,wspace=0.8)\n",
    "sns.lineplot(block_range, accurate_ratio[2,:], ax=axes[2], markers = 'True', marker = \"o\")\n",
    "plt.subplots_adjust(top=0.8,wspace=0.8)\n",
    "axes[0].set_xticks([0,1,2])\n",
    "axes[1].set_xticks([0,1,2])\n",
    "axes[2].set_xticks([0,1,2])\n",
    "axes[0].set_xlabel('Block Number')\n",
    "axes[1].set_xlabel('Block Number')\n",
    "axes[2].set_xlabel('Block Number')\n",
    "axes[0].set_ylabel('Accuracy Rate')\n",
    "axes[1].set_ylabel('Accuracy Rate')\n",
    "axes[2].set_ylabel('Accuracy Rate')\n",
    "axes[0].set_ylim(0, 1.05)\n",
    "axes[1].set_ylim(0, 1.05)\n",
    "axes[2].set_ylim(0, 1.05)\n",
    "axes[0].set_title('Target')\n",
    "axes[1].set_title('Standard')\n",
    "axes[2].set_title('Oddball')\n",
    "\n",
    "f.suptitle(SBJ + ' Condition and Accuracy in Oddball Task') # can also get the figure from plt.gcf()\n",
    "if os.path.isdir(results_dir + 'BHV/ODD/accuracy/') == False:\n",
    "    os.makedirs(results_dir + 'BHV/ODD/accuracy/')\n",
    "plt.savefig(results_dir+'BHV/ODD/accuracy/'+SBJ+'_acc_condition'+fig_type)"
   ]
  },
  {
   "cell_type": "code",
   "execution_count": null,
   "metadata": {},
   "outputs": [],
   "source": []
  }
 ],
 "metadata": {
  "kernelspec": {
   "display_name": "Python 2",
   "language": "python",
   "name": "python2"
  },
  "language_info": {
   "codemirror_mode": {
    "name": "ipython",
    "version": 2
   },
   "file_extension": ".py",
   "mimetype": "text/x-python",
   "name": "python",
   "nbconvert_exporter": "python",
   "pygments_lexer": "ipython2",
   "version": "2.7.16"
  }
 },
 "nbformat": 4,
 "nbformat_minor": 2
}
