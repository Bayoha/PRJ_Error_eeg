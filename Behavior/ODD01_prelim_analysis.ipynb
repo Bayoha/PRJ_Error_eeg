{
 "cells": [
  {
   "cell_type": "code",
   "execution_count": 20,
   "metadata": {
    "collapsed": false
   },
   "outputs": [],
   "source": [
    "from __future__ import division\n",
    "get_ipython().magic(u'matplotlib inline')\n",
    "import sys\n",
    "import os\n",
    "import numpy as np\n",
    "import pandas as pd\n",
    "import matplotlib.pyplot as plt\n",
    "import seaborn as sns\n",
    "import scipy.io as io\n",
    "import pickle\n",
    "\n",
    "import scipy.stats\n"
   ]
  },
  {
   "cell_type": "code",
   "execution_count": 14,
   "metadata": {
    "collapsed": true
   },
   "outputs": [],
   "source": [
    "SBJ = 'EEG01'#raw_input('Enter SBJ ID to process:')#'IR63'\n",
    "\n",
    "prj_dir = '/Volumes/hoycw_clust/PRJ_Error_eeg/'\n",
    "#prj_dir = '/Users/sheilasteiner/Desktop/Knight_Lab/PRJ_Error_eeg/'\n",
    "\n",
    "results_dir = prj_dir+'results/'\n",
    "data_dir    = prj_dir+'data/'\n",
    "sbj_dir     = data_dir+SBJ+'/'\n",
    "\n",
    "fig_type = '.png'"
   ]
  },
  {
   "cell_type": "code",
   "execution_count": 15,
   "metadata": {
    "collapsed": true
   },
   "outputs": [],
   "source": [
    "prdm_fname = os.path.join(sbj_dir,'03_events',SBJ+'_odd_prdm_vars.pkl')\n",
    "with open(prdm_fname, 'rb') as f:\n",
    "    prdm = pickle.load(f)"
   ]
  },
  {
   "cell_type": "code",
   "execution_count": 16,
   "metadata": {
    "collapsed": true
   },
   "outputs": [],
   "source": [
    "behav_fname = os.path.join(sbj_dir,'03_events',SBJ+'_behav_oddball.csv')\n",
    "data = pd.read_csv(behav_fname)"
   ]
  },
  {
   "cell_type": "markdown",
   "metadata": {},
   "source": [
    "# Compute Accuracy"
   ]
  },
  {
   "cell_type": "code",
   "execution_count": 18,
   "metadata": {
    "collapsed": true
   },
   "outputs": [],
   "source": [
    "accurate_tar_ratio = []\n",
    "accurate_std_ratio = []\n",
    "accurate_odd_ratio = []\n",
    "block_range = np.arange(np.max(data['Block']+1))\n",
    "# Compute accuracy per condition\n",
    "for ix in block_range:\n",
    "    block_data = data[data['Block'] == ix] #get all the trials in a certain block\n",
    "    accurate_tar_trials = []\n",
    "    tar_trials = block_data[block_data['Condition'] == 'tar'].index # find all the target trials\n",
    "    for x in tar_trials:\n",
    "        if data.loc[x,'Hit'] == 1: #if got it right (Hit), add it to the list of correct ones\n",
    "            accurate_tar_trials.append(x)\n",
    "    accurate_tar_ratio.append(np.size(accurate_tar_trials)/np.size(tar_trials)) # add the ratio of right/all to those (1 value for each block)\n",
    "    accurate_std_trials = []\n",
    "    std_trials = block_data[block_data['Condition'] == 'std'].index\n",
    "    for x in std_trials:\n",
    "        if data.loc[x,'Miss'] == 0: # same thing but count 1- number of misses/total as measure of accuracy\n",
    "            accurate_std_trials.append(x)\n",
    "    accurate_std_ratio.append(np.size(accurate_std_trials)/np.size(std_trials))\n",
    "    accurate_odd_trials = []\n",
    "    odd_trials = block_data[block_data['Condition'] == 'odd'].index\n",
    "    for x in odd_trials:\n",
    "        if data.loc[x,'Miss'] == 0:\n",
    "            accurate_odd_trials.append(x)\n",
    "    accurate_odd_ratio.append(np.size(accurate_odd_trials)/np.size(odd_trials))\n",
    "accuracy_all = np.concatenate(([accurate_tar_ratio], [accurate_std_ratio], [accurate_odd_ratio]), axis = 0)\n",
    "data_all = data\n",
    "# Exclude: Training/Examples, non-responses, first trial of each block\n",
    "data = data[(data['Block']!=-1) & (data['ITI']>0)] # no\n",
    "\n"
   ]
  },
  {
   "cell_type": "markdown",
   "metadata": {},
   "source": [
    "# Plot Accuracy"
   ]
  },
  {
   "cell_type": "code",
   "execution_count": 21,
   "metadata": {
    "collapsed": false
   },
   "outputs": [
    {
     "ename": "AttributeError",
     "evalue": "'module' object has no attribute 'lineplot'",
     "output_type": "error",
     "traceback": [
      "\u001b[0;31m---------------------------------------------------------------------------\u001b[0m",
      "\u001b[0;31mAttributeError\u001b[0m                            Traceback (most recent call last)",
      "\u001b[0;32m<ipython-input-21-bd40b193e2c3>\u001b[0m in \u001b[0;36m<module>\u001b[0;34m()\u001b[0m\n\u001b[1;32m      1\u001b[0m \u001b[0;31m# plot for each block the number correct, separate by condition\u001b[0m\u001b[0;34m\u001b[0m\u001b[0;34m\u001b[0m\u001b[0m\n\u001b[1;32m      2\u001b[0m \u001b[0mf\u001b[0m\u001b[0;34m,\u001b[0m \u001b[0maxes\u001b[0m \u001b[0;34m=\u001b[0m \u001b[0mplt\u001b[0m\u001b[0;34m.\u001b[0m\u001b[0msubplots\u001b[0m\u001b[0;34m(\u001b[0m\u001b[0;36m1\u001b[0m\u001b[0;34m,\u001b[0m\u001b[0;36m3\u001b[0m\u001b[0;34m)\u001b[0m\u001b[0;34m\u001b[0m\u001b[0m\n\u001b[0;32m----> 3\u001b[0;31m \u001b[0msns\u001b[0m\u001b[0;34m.\u001b[0m\u001b[0mlineplot\u001b[0m\u001b[0;34m(\u001b[0m\u001b[0mblock_range\u001b[0m\u001b[0;34m,\u001b[0m \u001b[0maccuracy_all\u001b[0m\u001b[0;34m[\u001b[0m\u001b[0;36m0\u001b[0m\u001b[0;34m,\u001b[0m\u001b[0;34m:\u001b[0m\u001b[0;34m]\u001b[0m\u001b[0;34m,\u001b[0m \u001b[0max\u001b[0m\u001b[0;34m=\u001b[0m\u001b[0maxes\u001b[0m\u001b[0;34m[\u001b[0m\u001b[0;36m0\u001b[0m\u001b[0;34m]\u001b[0m\u001b[0;34m,\u001b[0m \u001b[0mmarkers\u001b[0m \u001b[0;34m=\u001b[0m \u001b[0;34m'True'\u001b[0m\u001b[0;34m,\u001b[0m \u001b[0mmarker\u001b[0m \u001b[0;34m=\u001b[0m \u001b[0;34m\"o\"\u001b[0m\u001b[0;34m)\u001b[0m\u001b[0;34m\u001b[0m\u001b[0m\n\u001b[0m\u001b[1;32m      4\u001b[0m \u001b[0mplt\u001b[0m\u001b[0;34m.\u001b[0m\u001b[0msubplots_adjust\u001b[0m\u001b[0;34m(\u001b[0m\u001b[0mtop\u001b[0m\u001b[0;34m=\u001b[0m\u001b[0;36m0.8\u001b[0m\u001b[0;34m,\u001b[0m\u001b[0mwspace\u001b[0m\u001b[0;34m=\u001b[0m\u001b[0;36m0.8\u001b[0m\u001b[0;34m)\u001b[0m\u001b[0;34m\u001b[0m\u001b[0m\n\u001b[1;32m      5\u001b[0m \u001b[0msns\u001b[0m\u001b[0;34m.\u001b[0m\u001b[0mlineplot\u001b[0m\u001b[0;34m(\u001b[0m\u001b[0mblock_range\u001b[0m\u001b[0;34m,\u001b[0m \u001b[0maccuracy_all\u001b[0m\u001b[0;34m[\u001b[0m\u001b[0;36m1\u001b[0m\u001b[0;34m,\u001b[0m\u001b[0;34m:\u001b[0m\u001b[0;34m]\u001b[0m\u001b[0;34m,\u001b[0m \u001b[0max\u001b[0m\u001b[0;34m=\u001b[0m\u001b[0maxes\u001b[0m\u001b[0;34m[\u001b[0m\u001b[0;36m1\u001b[0m\u001b[0;34m]\u001b[0m\u001b[0;34m,\u001b[0m \u001b[0mmarkers\u001b[0m \u001b[0;34m=\u001b[0m \u001b[0;34m'True'\u001b[0m\u001b[0;34m,\u001b[0m \u001b[0mmarker\u001b[0m \u001b[0;34m=\u001b[0m \u001b[0;34m\"o\"\u001b[0m\u001b[0;34m)\u001b[0m\u001b[0;34m\u001b[0m\u001b[0m\n",
      "\u001b[0;31mAttributeError\u001b[0m: 'module' object has no attribute 'lineplot'"
     ]
    },
    {
     "data": {
      "image/png": "[encoded data removed]",
      "text/plain": [
       "<matplotlib.figure.Figure at 0x10cf81dd0>"
      ]
     },
     "metadata": {},
     "output_type": "display_data"
    }
   ],
   "source": [
    "# plot for each block the number correct, separate by condition\n",
    "f, axes = plt.subplots(1,3)\n",
    "sns.lineplot(block_range, accuracy_all[0,:], ax=axes[0], markers = 'True', marker = \"o\")\n",
    "plt.subplots_adjust(top=0.8,wspace=0.8)\n",
    "sns.lineplot(block_range, accuracy_all[1,:], ax=axes[1], markers = 'True', marker = \"o\")\n",
    "plt.subplots_adjust(top=0.8,wspace=0.8)\n",
    "sns.lineplot(block_range, accuracy_all[2,:], ax=axes[2], markers = 'True', marker = \"o\")\n",
    "plt.subplots_adjust(top=0.8,wspace=0.8)\n",
    "axes[0].set_xticks([0,1,2])\n",
    "axes[1].set_xticks([0,1,2])\n",
    "axes[2].set_xticks([0,1,2])\n",
    "axes[0].set_xlabel('Block Number')\n",
    "axes[1].set_xlabel('Block Number')\n",
    "axes[2].set_xlabel('Block Number')\n",
    "axes[0].set_ylabel('Accuracy Rate')\n",
    "axes[1].set_ylabel('Accuracy Rate')\n",
    "axes[2].set_ylabel('Accuracy Rate')\n",
    "axes[0].set_ylim(0, 1.05)\n",
    "axes[1].set_ylim(0, 1.05)\n",
    "axes[2].set_ylim(0, 1.05)\n",
    "axes[0].set_title('Target')\n",
    "axes[1].set_title('Standard')\n",
    "axes[2].set_title('Oddball')\n",
    "\n",
    "f.suptitle(SBJ + ' Condition and Accuracy in Oddball Task') # can also get the figure from plt.gcf()\n",
    "if os.path.isdir(results_dir + 'BHV/ODD/accuracy/') == False:\n",
    "    os.makedirs(results_dir + 'BHV/ODD/accuracy/')\n",
    "plt.savefig(results_dir+'BHV/ODD/accuracy/'+SBJ+'_acc_condition'+fig_type)\n"
   ]
  },
  {
   "cell_type": "code",
   "execution_count": null,
   "metadata": {
    "collapsed": true
   },
   "outputs": [],
   "source": []
  }
 ],
 "metadata": {
  "kernelspec": {
   "display_name": "Python 2",
   "language": "python",
   "name": "python2"
  },
  "language_info": {
   "codemirror_mode": {
    "name": "ipython",
    "version": 2
   },
   "file_extension": ".py",
   "mimetype": "text/x-python",
   "name": "python",
   "nbconvert_exporter": "python",
   "pygments_lexer": "ipython2",
   "version": "2.7.13"
  }
 },
 "nbformat": 4,
 "nbformat_minor": 2
}
